{
 "cells": [
  {
   "cell_type": "markdown",
   "metadata": {},
   "source": [
    "# Programming Exercise 1 part 2 - Multi variate Linear Regression\n",
    "\n",
    "\n",
    "[Linear regression with one variable](#Linear-regression-with-one-variable)\n",
    "  - [Feature normalization](#Question-1-:-Feature-normalization)\n",
    "  - [Cost Computation](#Question-2-:-Cost-Computation)\n",
    "  - [Gradient Descent](#Question-3-:-Gradient-Descent)\n",
    "  - [Prediction](#Question-4-:-Predict-Price)\n",
    "  - [Normal Equation](#Question-5-:-Normal-Equation)\n",
    "  - [Use Scikit-learn](#Question-6-:-Use-Scikit-learn)"
   ]
  },
  {
   "cell_type": "code",
   "execution_count": 396,
   "metadata": {
    "collapsed": false
   },
   "outputs": [
    {
     "name": "stdout",
     "output_type": "stream",
     "text": [
      "\n"
     ]
    }
   ],
   "source": [
    "# %load ../../standard_import.txt\n",
    "import pandas as pd\n",
    "import numpy as np\n",
    "import matplotlib.pyplot as plt\n",
    "\n",
    "from sklearn.linear_model import LinearRegression\n",
    "from mpl_toolkits.mplot3d import axes3d\n",
    "\n",
    "pd.set_option('display.notebook_repr_html', False)\n",
    "pd.set_option('display.max_columns', None)\n",
    "pd.set_option('display.max_rows', 150)\n",
    "pd.set_option('display.max_seq_items', None)\n",
    " \n",
    "#%config InlineBackend.figure_formats = {'pdf',}\n",
    "%matplotlib inline  \n",
    "\n",
    "import seaborn as sns\n",
    "sns.set_context('notebook')\n",
    "sns.set_style('white')"
   ]
  },
  {
   "cell_type": "markdown",
   "metadata": {},
   "source": [
    "Load data : here the data is the price of a house as a function of area and number of rooms"
   ]
  },
  {
   "cell_type": "code",
   "execution_count": 397,
   "metadata": {
    "collapsed": false
   },
   "outputs": [],
   "source": [
    "data = np.loadtxt('data/ex1data2.txt', delimiter=',')\n"
   ]
  },
  {
   "cell_type": "code",
   "execution_count": 398,
   "metadata": {
    "collapsed": false
   },
   "outputs": [
    {
     "data": {
      "image/png": "[encoded data removed]",
      "text/plain": [
       "<matplotlib.figure.Figure at 0x7fc076a709d0>"
      ]
     },
     "metadata": {},
     "output_type": "display_data"
    }
   ],
   "source": [
    "# FIXME this is only plotting price / area\n",
    "\n",
    "plt.scatter(data[:,0:1], data[:,2], s=30, c='r', marker='x', linewidths=1)\n",
    "# plt.xlim(4,24)\n",
    "plt.xlabel('Area in sq feet');\n",
    "#plt.ylabel('Nb of Room');\n",
    "plt.ylabel('Price');\n"
   ]
  },
  {
   "cell_type": "markdown",
   "metadata": {},
   "source": [
    "### Question 1 : Feature normalization\n",
    "From now on, all calculus have to be vectorized. The algorithm you're writing should be working for any dataset size."
   ]
  },
  {
   "cell_type": "code",
   "execution_count": 399,
   "metadata": {
    "collapsed": true
   },
   "outputs": [],
   "source": [
    "def featureNormalize(X):\n",
    "    X_norm = X;\n",
    "    mu = np.zeros(X.shape)\n",
    "    sigma = np.zeros(X.shape)\n",
    "    # your code here\n",
    "    mu = np.mean(X, axis=0)\n",
    "    sigma = np.std(X, axis=0)\n",
    "    X_norm = (X - mu)/(sigma - mu);\n",
    "    return X_norm, mu, sigma;"
   ]
  },
  {
   "cell_type": "code",
   "execution_count": 400,
   "metadata": {
    "collapsed": false
   },
   "outputs": [],
   "source": [
    "# X = np.c_[data[:,0:2]]\n",
    "y = np.c_[data[:,2]]\n",
    "\n",
    "X, mu, sigma = featureNormalize(data[:,0:2])\n",
    "X = np.c_[np.ones(data.shape[0]),X]"
   ]
  },
  {
   "cell_type": "markdown",
   "metadata": {},
   "source": [
    "### Question 2 : Cost Computation\n",
    "\n",
    "$$ J(\\theta) =  \\frac{1}{2m} \\sum_{i=1}^{m} (h_{\\theta}(x^{(i)}) - y^{(i)} )^{2} $$"
   ]
  },
  {
   "cell_type": "code",
   "execution_count": 401,
   "metadata": {
    "collapsed": true
   },
   "outputs": [],
   "source": [
    "def computeCostMulti(X, y, theta):\n",
    "    J = 0.0;\n",
    "    # your code here. Code have to be vecorized and have to work with any dataset size\n",
    "    m = y.size\n",
    "    J = 0\n",
    "    h = X.dot(theta)\n",
    "    J = 1.0/(2*m)*np.sum(np.square(h-y))\n",
    "    return J;"
   ]
  },
  {
   "cell_type": "code",
   "execution_count": 402,
   "metadata": {
    "collapsed": false
   },
   "outputs": [
    {
     "name": "stdout",
     "output_type": "stream",
     "text": [
      "[ 0.  0.  0.]\n",
      "Initial Error is : 3.082802761e+12\n",
      "Initial Error Should be FIXME\n"
     ]
    }
   ],
   "source": [
    "# compute initial cost and init theta\n",
    "theta = np.zeros(X.shape[1])\n",
    "print theta\n",
    "J = computeCostMulti(X, y, theta);\n",
    "print \"Initial Error is :\",  J\n",
    "print \"Initial Error Should be FIXME\""
   ]
  },
  {
   "cell_type": "markdown",
   "metadata": {},
   "source": [
    "### Question 3 : Gradient Descent\n",
    "\n",
    "\\begin{align*}& \\text{Repeat until convergence:} \\; \\lbrace \\newline \\; & \\theta_j := \\theta_j - \\alpha \\frac{1}{m} \\sum\\limits_{i=1}^{m} (h_\\theta(x^{(i)}) - y^{(i)}) \\cdot x_j^{(i)} \\; & \\text{for j := 0...n}\\newline \\rbrace\\end{align*}"
   ]
  },
  {
   "cell_type": "code",
   "execution_count": 414,
   "metadata": {
    "collapsed": false
   },
   "outputs": [],
   "source": [
    "def gradientDescentMulti(X, y, theta=np.array([[0],[0], [0]]), alpha=0.01, num_iters=1500):\n",
    "    J_hist = np.zeros(num_iters)\n",
    "    \n",
    "    m = y.size\n",
    "    J_hist = np.zeros(num_iters)\n",
    "    \n",
    "    for iter in np.arange(num_iters):\n",
    "        h = 0;\n",
    "        h = X.dot(theta)\n",
    "        theta = theta - alpha*(1.0/m)*(X.T.dot(h-y))\n",
    "        J_hist[iter] = computeCostMulti(X, y, theta)\n",
    "    \n",
    "    return theta, J_hist"
   ]
  },
  {
   "cell_type": "markdown",
   "metadata": {},
   "source": [
    "##### Understanding learning rate and normalization :\n",
    "When learning works fine then\n",
    "- try to play with alpha and see the influence of changing it\n",
    "- try to disable feature normalization and observe what happens"
   ]
  },
  {
   "cell_type": "code",
   "execution_count": 415,
   "metadata": {
    "collapsed": false
   },
   "outputs": [
    {
     "name": "stdout",
     "output_type": "stream",
     "text": [
      "theta:\n",
      "[[ 340412.56301439]\n",
      " [-160396.44038944]\n",
      " [  -5801.81765393]]\n"
     ]
    },
    {
     "data": {
      "image/png": "[encoded data removed]",
      "text/plain": [
       "<matplotlib.figure.Figure at 0x7fc0767cb3d0>"
      ]
     },
     "metadata": {},
     "output_type": "display_data"
    }
   ],
   "source": [
    "# call gradient descent\n",
    "theta , Cost_J = gradientDescentMulti(X, y, alpha = 0.01)\n",
    "print 'theta:\\n',theta\n",
    "\n",
    "plt.plot(Cost_J)\n",
    "plt.ylabel('Cost J')\n",
    "plt.xlabel('Iterations');"
   ]
  },
  {
   "cell_type": "markdown",
   "metadata": {},
   "source": [
    "### Question 4 : Predict Price\n",
    "Here you have to estimate the price of 1650 sq-ft house.\n",
    "If everything is fine the estimated price should be : FIXME"
   ]
  },
  {
   "cell_type": "code",
   "execution_count": 405,
   "metadata": {
    "collapsed": false
   },
   "outputs": [
    {
     "name": "stdout",
     "output_type": "stream",
     "text": [
      "Predicted Price is :  413268.16296\n"
     ]
    }
   ],
   "source": [
    "# Estimate the price of a 1650 sq-ft, 3 br house\n",
    "# hint : do not forget to normalize the input vector\n",
    "house = [1650, 3]\n",
    "# YOUR CODE HERE\n",
    "house = (house - mu) / sigma;\n",
    "house = np.concatenate(([1.0], house), axis=0)\n",
    "pred = theta.transpose().dot(house)\n",
    "print \"Predicted Price is : \", pred[0]"
   ]
  },
  {
   "cell_type": "markdown",
   "metadata": {},
   "source": [
    "### Question 5 : Normal Equation\n",
    "\n",
    "With the normal equation $\\theta = (X^T X)^{-1}X^T y$\n",
    "\n",
    "If everything is fine, then result should be similar to what we obtained previously."
   ]
  },
  {
   "cell_type": "code",
   "execution_count": 406,
   "metadata": {
    "collapsed": false
   },
   "outputs": [],
   "source": [
    "def normalEq(X, y):\n",
    "    # YOUR CODE HERE\n",
    "    temp1 = X.transpose().dot(X)\n",
    "    temp2 = X.transpose().dot(y)\n",
    "    \n",
    "    theta_eq = np.linalg.pinv(temp1).dot(temp2)\n",
    "    return theta_eq"
   ]
  },
  {
   "cell_type": "code",
   "execution_count": 409,
   "metadata": {
    "collapsed": false
   },
   "outputs": [
    {
     "name": "stdout",
     "output_type": "stream",
     "text": [
      "theta_eq : \n",
      "[[ 340412.65957447]\n",
      " [-169068.33330111]\n",
      " [  21123.02488492]]\n",
      "Predicted Price is :  411048.77579\n"
     ]
    }
   ],
   "source": [
    "# Call\n",
    "theta_eq = normalEq(X, y)\n",
    "\n",
    "\n",
    "# YOUR CODE HERE\n",
    "print \"theta_eq : \\n\", theta_eq\n",
    "pred = theta_eq.transpose().dot(house)\n",
    "print \"Predicted Price is : \", pred[0]\n",
    "\n",
    "# print(theta - theta_eq)"
   ]
  },
  {
   "cell_type": "markdown",
   "metadata": {},
   "source": [
    "### Question 6 : Use Scikit-learn\n",
    "Now you should use scikit-learn to do the linear regression.\n",
    "If everything is fine, then result should be similar to what we obtained previously."
   ]
  },
  {
   "cell_type": "code",
   "execution_count": 408,
   "metadata": {
    "collapsed": false
   },
   "outputs": [
    {
     "name": "stdout",
     "output_type": "stream",
     "text": [
      "theta_sckit : \n",
      "[[ 340412.65957447]\n",
      " [-169068.33330111]\n",
      " [  21123.02488492]]\n"
     ]
    }
   ],
   "source": [
    "# Compare with Scikit-learn Linear regression \n",
    "# YOUR CODE HERE\n",
    "regr = LinearRegression()\n",
    "regr.fit(X[:,1:3], y)\n",
    "\n",
    "# keep this part\n",
    "theta_sckit = np.c_[regr.intercept_, regr.coef_]\n",
    "\n",
    "print \"theta_sckit : \\n\", theta_sckit.transpose()"
   ]
  }
 ],
 "metadata": {
  "kernelspec": {
   "display_name": "Python 2",
   "language": "python",
   "name": "python2"
  },
  "language_info": {
   "codemirror_mode": {
    "name": "ipython",
    "version": 2
   },
   "file_extension": ".py",
   "mimetype": "text/x-python",
   "name": "python",
   "nbconvert_exporter": "python",
   "pygments_lexer": "ipython2",
   "version": "2.7.6"
  }
 },
 "nbformat": 4,
 "nbformat_minor": 2
}
