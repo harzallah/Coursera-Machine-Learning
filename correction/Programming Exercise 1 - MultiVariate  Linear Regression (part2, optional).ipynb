{
 "cells": [
  {
   "cell_type": "markdown",
   "metadata": {},
   "source": [
    "# Programming Exercise 1 part 2 - Multivariate Linear Regression\n",
    "\n",
    "\n",
    "[Linear regression with one variable](#Linear-regression-with-one-variable)\n",
    "  - [Feature normalization](#Question-1-:-Feature-normalization)\n",
    "  - [Cost Computation](#Question-2-:-Cost-Computation)\n",
    "  - [Gradient Descent](#Question-3-:-Gradient-Descent)\n",
    "  - [Prediction](#Question-4-:-Predict-Price)\n",
    "  - [Normal Equation](#Question-5-:-Normal-Equation)\n",
    "  - [Use Scikit-learn](#Question-6-:-Use-Scikit-learn)"
   ]
  },
  {
   "cell_type": "code",
   "execution_count": 3,
   "metadata": {
    "collapsed": false
   },
   "outputs": [
    {
     "name": "stderr",
     "output_type": "stream",
     "text": [
      "/usr/lib/python2.7/dist-packages/matplotlib/font_manager.py:273: UserWarning: Matplotlib is building the font cache using fc-list. This may take a moment.\n",
      "  warnings.warn('Matplotlib is building the font cache using fc-list. This may take a moment.')\n"
     ]
    }
   ],
   "source": [
    "# %load ../../standard_import.txt\n",
    "import pandas as pd\n",
    "import numpy as np\n",
    "import matplotlib.pyplot as plt\n",
    "\n",
    "from sklearn.linear_model import LinearRegression\n",
    "from mpl_toolkits.mplot3d import axes3d, Axes3D\n",
    "\n",
    "pd.set_option('display.notebook_repr_html', False)\n",
    "pd.set_option('display.max_columns', None)\n",
    "pd.set_option('display.max_rows', 150)\n",
    "pd.set_option('display.max_seq_items', None)\n",
    " \n",
    "#%config InlineBackend.figure_formats = {'pdf',}\n",
    "%matplotlib inline  \n",
    "\n",
    "import seaborn as sns\n",
    "sns.set_context('notebook')\n",
    "sns.set_style('white')"
   ]
  },
  {
   "cell_type": "markdown",
   "metadata": {},
   "source": [
    "Load data : here the data is the price of a house as a function of area and number of rooms"
   ]
  },
  {
   "cell_type": "code",
   "execution_count": 4,
   "metadata": {
    "collapsed": false
   },
   "outputs": [],
   "source": [
    "data = np.loadtxt('data/ex1data2.txt', delimiter=',')\n"
   ]
  },
  {
   "cell_type": "code",
   "execution_count": 5,
   "metadata": {
    "collapsed": false
   },
   "outputs": [
    {
     "data": {
      "image/png": "[encoded data removed]",
      "text/plain": [
       "<matplotlib.figure.Figure at 0x7f5a51aa38d0>"
      ]
     },
     "metadata": {},
     "output_type": "display_data"
    }
   ],
   "source": [
    "# FIXME this is only plotting price / area\n",
    "\n",
    "plt.scatter(data[:,0:1], data[:,2], s=30, c='r', marker='x', linewidths=1)\n",
    "# plt.xlim(4,24)\n",
    "plt.xlabel('Area in sq feet');\n",
    "#plt.ylabel('Nb of Room');\n",
    "plt.ylabel('Price');\n"
   ]
  },
  {
   "cell_type": "markdown",
   "metadata": {},
   "source": [
    "### Question 1 : Feature normalization\n",
    "From now on, all calculus have to be vectorized. The algorithm you're writing should be working for any dataset size."
   ]
  },
  {
   "cell_type": "code",
   "execution_count": 6,
   "metadata": {
    "collapsed": true
   },
   "outputs": [],
   "source": [
    "def featureNormalize(X):\n",
    "    X_norm = X;\n",
    "    mu = np.zeros(X.shape)\n",
    "    sigma = np.zeros(X.shape)\n",
    "    # your code here\n",
    "    mu = np.mean(X, axis=0)\n",
    "    # We use ddof = 1 in order to obtain exact same results as in octave/matlab\n",
    "    sigma = np.std(X, axis=0, ddof=1)\n",
    "    X_norm = (X - mu)/(sigma);\n",
    "    \n",
    "    return X_norm, mu, sigma;"
   ]
  },
  {
   "cell_type": "code",
   "execution_count": 7,
   "metadata": {
    "collapsed": false
   },
   "outputs": [],
   "source": [
    "# X = np.c_[data[:,0:2]]\n",
    "y = np.c_[data[:,2]]\n",
    "\n",
    "X, mu, sigma = featureNormalize(data[:,0:2])\n",
    "X = np.c_[np.ones(data.shape[0]),X]"
   ]
  },
  {
   "cell_type": "markdown",
   "metadata": {},
   "source": [
    "### Question 2 : Cost Computation\n",
    "\n",
    "$$ J(\\theta) =  \\frac{1}{2m} \\sum_{i=1}^{m} (h_{\\theta}(x^{(i)}) - y^{(i)} )^{2} $$"
   ]
  },
  {
   "cell_type": "code",
   "execution_count": 8,
   "metadata": {
    "collapsed": true
   },
   "outputs": [],
   "source": [
    "def computeCostMulti(X, y, theta):\n",
    "    J = 0.0;\n",
    "    # your code here. Code have to be vecorized and have to work with any dataset size\n",
    "    m = y.size\n",
    "    J = 0\n",
    "    h = X.dot(theta)\n",
    "    J = np.sum(np.square(h-y))/(2*m)\n",
    "    return J;"
   ]
  },
  {
   "cell_type": "code",
   "execution_count": 9,
   "metadata": {
    "collapsed": false
   },
   "outputs": [
    {
     "name": "stdout",
     "output_type": "stream",
     "text": [
      "[[ 0.]\n",
      " [ 0.]\n",
      " [ 0.]]\n",
      "Initial Error is : 65591548106.5\n",
      "Initial Error Should around 65591548106\n"
     ]
    }
   ],
   "source": [
    "# compute initial cost and init theta\n",
    "theta = np.zeros(( X.shape[1], 1) )\n",
    "print theta\n",
    "J = computeCostMulti(X, y, theta);\n",
    "print \"Initial Error is :\",  J\n",
    "print \"Initial Error Should around 65591548106\""
   ]
  },
  {
   "cell_type": "markdown",
   "metadata": {},
   "source": [
    "### Question 3 : Gradient Descent\n",
    "Repeat until convergence :\n",
    "$$ \\theta_j := \\theta_j - \\alpha \\frac{1}{m} \\sum\\limits_{i=1}^{m} (h_\\theta(x^{(i)}) - y^{(i)}) \\cdot x_j^{(i)} \\text{,  for j := 0...n} $$"
   ]
  },
  {
   "cell_type": "code",
   "execution_count": 10,
   "metadata": {
    "collapsed": false
   },
   "outputs": [],
   "source": [
    "def gradientDescentMulti(X, y, theta=np.array([[0],[0], [0]]), alpha=0.1, num_iters=50):\n",
    "    J_hist = np.zeros(num_iters)\n",
    "    \n",
    "    m = y.size\n",
    "    J_hist = np.zeros(num_iters)\n",
    "    \n",
    "    for iter in np.arange(num_iters):\n",
    "        h = 0;\n",
    "        h = X.dot(theta)\n",
    "        theta = theta - alpha*(1.0/m)*(X.T.dot(h-y))\n",
    "        J_hist[iter] = computeCostMulti(X, y, theta)\n",
    "    \n",
    "    return theta, J_hist"
   ]
  },
  {
   "cell_type": "markdown",
   "metadata": {},
   "source": [
    "##### Understanding learning rate and normalization :\n",
    "When learning works fine then\n",
    "- try to play with alpha and see the influence of changing it\n",
    "- try to disable feature normalization and observe what happens"
   ]
  },
  {
   "cell_type": "code",
   "execution_count": 11,
   "metadata": {
    "collapsed": false
   },
   "outputs": [
    {
     "name": "stdout",
     "output_type": "stream",
     "text": [
      "theta:\n",
      "[[ 340412.65957447]\n",
      " [ 110631.05026267]\n",
      " [  -6649.47425464]]\n"
     ]
    },
    {
     "data": {
      "image/png": "[encoded data removed]",
      "text/plain": [
       "<matplotlib.figure.Figure at 0x7f5a51aa3cd0>"
      ]
     },
     "metadata": {},
     "output_type": "display_data"
    }
   ],
   "source": [
    "# call gradient descent\n",
    "theta , Cost_J = gradientDescentMulti(X, y, alpha = 0.1, num_iters=500)\n",
    "print 'theta:\\n',theta\n",
    "\n",
    "plt.plot(Cost_J)\n",
    "plt.ylabel('Cost J')\n",
    "plt.xlabel('Iterations');"
   ]
  },
  {
   "cell_type": "markdown",
   "metadata": {},
   "source": [
    "### Question 4 : Predict Price\n",
    "Here you have to estimate the price of 1650 sq-ft house.\n",
    "If everything is fine the estimated price should be : FIXME"
   ]
  },
  {
   "cell_type": "code",
   "execution_count": 12,
   "metadata": {
    "collapsed": false
   },
   "outputs": [
    {
     "name": "stdout",
     "output_type": "stream",
     "text": [
      "Predicted Price is :  293081.464338\n"
     ]
    }
   ],
   "source": [
    "# Estimate the price of a 1650 sq-ft, 3 br house\n",
    "# hint : do not forget to normalize the input vector\n",
    "house = [1650, 3]\n",
    "# YOUR CODE HERE\n",
    "house = (house - mu) / sigma;\n",
    "house = np.concatenate(([1.0], house), axis=0)\n",
    "pred = theta.transpose().dot(house)\n",
    "print \"Predicted Price is : \", pred[0]"
   ]
  },
  {
   "cell_type": "markdown",
   "metadata": {},
   "source": [
    "### Question 5 : Normal Equation\n",
    "\n",
    "With the normal equation $\\theta = (X^T X)^{-1}X^T y$\n",
    "\n",
    "If everything is fine, then result should be similar to what we obtained previously."
   ]
  },
  {
   "cell_type": "code",
   "execution_count": 17,
   "metadata": {
    "collapsed": false
   },
   "outputs": [],
   "source": [
    "def normalEq(X, y):\n",
    "    # YOUR CODE HERE\n",
    "    temp1 = X.transpose().dot(X)\n",
    "    temp2 = X.transpose().dot(y)\n",
    "    \n",
    "    theta_eq = np.linalg.pinv(temp1).dot(temp2)\n",
    "    return theta_eq"
   ]
  },
  {
   "cell_type": "code",
   "execution_count": 18,
   "metadata": {
    "collapsed": false
   },
   "outputs": [
    {
     "name": "stdout",
     "output_type": "stream",
     "text": [
      "theta_eq : \n",
      "[[ 340412.65957447]\n",
      " [ 110631.05027885]\n",
      " [  -6649.47427082]]\n",
      "Predicted Price is :  293081.464335\n",
      "Difference between two thetas is : \n",
      "[[ -2.32830644e-10]\n",
      " [ -1.61788921e-05]\n",
      " [  1.61789712e-05]]\n"
     ]
    }
   ],
   "source": [
    "# Call\n",
    "theta_eq = normalEq(X, y)\n",
    "\n",
    "\n",
    "# YOUR CODE HERE\n",
    "print \"theta_eq : \\n\", theta_eq\n",
    "pred = theta_eq.transpose().dot(house)\n",
    "print \"Predicted Price is : \", pred[0]\n",
    "\n",
    "print \"Difference between two thetas is : \\n\", theta - theta_eq"
   ]
  },
  {
   "cell_type": "markdown",
   "metadata": {},
   "source": [
    "### Question 6 : Use Scikit-learn (not in original coursera exercise)\n",
    "Now you should use scikit-learn to do the linear regression.\n",
    "If everything is fine, then result should be similar to what we obtained previously."
   ]
  },
  {
   "cell_type": "code",
   "execution_count": 15,
   "metadata": {
    "collapsed": false,
    "scrolled": true
   },
   "outputs": [
    {
     "name": "stdout",
     "output_type": "stream",
     "text": [
      "theta_sckit : \n",
      "[[ 340412.65957447]\n",
      " [ 110631.05027885]\n",
      " [  -6649.47427082]]\n"
     ]
    }
   ],
   "source": [
    "# Compare with Scikit-learn Linear regression \n",
    "# YOUR CODE HERE\n",
    "regr = LinearRegression()\n",
    "regr.fit(X[:,1:3], y)\n",
    "\n",
    "# keep this part\n",
    "theta_sckit = np.c_[regr.intercept_, regr.coef_].transpose()\n",
    "\n",
    "print \"theta_sckit : \\n\", theta_sckit\n",
    "\n"
   ]
  },
  {
   "cell_type": "markdown",
   "metadata": {},
   "source": [
    "#### Learned Hypothesis $ h_{\\theta}(X) $"
   ]
  },
  {
   "cell_type": "code",
   "execution_count": 16,
   "metadata": {
    "collapsed": false
   },
   "outputs": [
    {
     "ename": "ValueError",
     "evalue": "shapes (1,3) and (1,3) not aligned: 3 (dim 1) != 1 (dim 0)",
     "output_type": "error",
     "traceback": [
      "\u001b[0;31m---------------------------------------------------------------------------\u001b[0m",
      "\u001b[0;31mValueError\u001b[0m                                Traceback (most recent call last)",
      "\u001b[0;32m<ipython-input-16-068fa55350c8>\u001b[0m in \u001b[0;36m<module>\u001b[0;34m()\u001b[0m\n\u001b[1;32m     13\u001b[0m \u001b[0;32mfor\u001b[0m \u001b[0;34m(\u001b[0m\u001b[0mi\u001b[0m\u001b[0;34m,\u001b[0m\u001b[0mj\u001b[0m\u001b[0;34m)\u001b[0m\u001b[0;34m,\u001b[0m\u001b[0mv\u001b[0m \u001b[0;32min\u001b[0m \u001b[0mnp\u001b[0m\u001b[0;34m.\u001b[0m\u001b[0mndenumerate\u001b[0m\u001b[0;34m(\u001b[0m\u001b[0mZ\u001b[0m\u001b[0;34m)\u001b[0m\u001b[0;34m:\u001b[0m\u001b[0;34m\u001b[0m\u001b[0m\n\u001b[1;32m     14\u001b[0m     \u001b[0mpt\u001b[0m \u001b[0;34m=\u001b[0m \u001b[0mnp\u001b[0m\u001b[0;34m.\u001b[0m\u001b[0marray\u001b[0m\u001b[0;34m(\u001b[0m\u001b[0;34m[\u001b[0m\u001b[0;34m[\u001b[0m\u001b[0;36m1\u001b[0m\u001b[0;34m]\u001b[0m\u001b[0;34m,\u001b[0m \u001b[0;34m[\u001b[0m\u001b[0mxx_norm\u001b[0m\u001b[0;34m[\u001b[0m\u001b[0mi\u001b[0m\u001b[0;34m,\u001b[0m\u001b[0mj\u001b[0m\u001b[0;34m]\u001b[0m\u001b[0;34m]\u001b[0m\u001b[0;34m,\u001b[0m \u001b[0;34m[\u001b[0m\u001b[0myy_norm\u001b[0m\u001b[0;34m[\u001b[0m\u001b[0mi\u001b[0m\u001b[0;34m,\u001b[0m\u001b[0mj\u001b[0m\u001b[0;34m]\u001b[0m\u001b[0;34m]\u001b[0m\u001b[0;34m]\u001b[0m\u001b[0;34m)\u001b[0m\u001b[0;34m;\u001b[0m\u001b[0;34m\u001b[0m\u001b[0m\n\u001b[0;32m---> 15\u001b[0;31m     \u001b[0mZ\u001b[0m\u001b[0;34m[\u001b[0m\u001b[0mi\u001b[0m\u001b[0;34m,\u001b[0m\u001b[0mj\u001b[0m\u001b[0;34m]\u001b[0m \u001b[0;34m=\u001b[0m \u001b[0mpt\u001b[0m\u001b[0;34m.\u001b[0m\u001b[0mT\u001b[0m\u001b[0;34m.\u001b[0m\u001b[0mdot\u001b[0m\u001b[0;34m(\u001b[0m\u001b[0mtheta_sckit\u001b[0m\u001b[0;34m.\u001b[0m\u001b[0mT\u001b[0m\u001b[0;34m)\u001b[0m\u001b[0;34m\u001b[0m\u001b[0m\n\u001b[0m\u001b[1;32m     16\u001b[0m \u001b[0;34m\u001b[0m\u001b[0m\n\u001b[1;32m     17\u001b[0m \u001b[0mfig\u001b[0m \u001b[0;34m=\u001b[0m \u001b[0mplt\u001b[0m\u001b[0;34m.\u001b[0m\u001b[0mfigure\u001b[0m\u001b[0;34m(\u001b[0m\u001b[0mfigsize\u001b[0m\u001b[0;34m=\u001b[0m\u001b[0;34m(\u001b[0m\u001b[0;36m15\u001b[0m\u001b[0;34m,\u001b[0m\u001b[0;36m10\u001b[0m\u001b[0;34m)\u001b[0m\u001b[0;34m)\u001b[0m\u001b[0;34m\u001b[0m\u001b[0m\n",
      "\u001b[0;31mValueError\u001b[0m: shapes (1,3) and (1,3) not aligned: 3 (dim 1) != 1 (dim 0)"
     ]
    }
   ],
   "source": [
    "\n",
    "# Create grid coordinates for plotting\n",
    "B0 = np.linspace(mu[0]-2*sigma[0], mu[0]+2*sigma[0], 50)\n",
    "B1 = np.linspace(mu[1]-2*sigma[1], mu[1]+2*sigma[1], 50)\n",
    "xx, yy = np.meshgrid(B0, B1, indexing='xy')\n",
    "\n",
    "xx_norm = (xx - mu[0]) / sigma[0]\n",
    "yy_norm = (yy - mu[1]) / sigma[1]\n",
    "\n",
    "Z = np.zeros((B0.size,B1.size))\n",
    "\n",
    "# Calculate Z-values (Cost) based on grid of coefficients\n",
    "for (i,j),v in np.ndenumerate(Z):\n",
    "    pt = np.array([[1], [xx_norm[i,j]], [yy_norm[i,j]]]);\n",
    "    Z[i,j] = pt.T.dot(theta_sckit.T)\n",
    "\n",
    "fig = plt.figure(figsize=(15,10))\n",
    "# ax2 = fig.add_subplot(111, projection='3d')\n",
    "ax2 = Axes3D(fig)\n",
    "\n",
    "ax2.plot_surface(xx, yy, Z, rstride=1, cstride=1, alpha=0.6, cmap=plt.cm.jet)\n",
    "ax2.set_zlabel('House Price')\n",
    "ax2.set_zlim(Z.min(),Z.max())\n",
    "ax2.view_init(elev=15, azim=230)\n",
    "\n",
    "# settings common to both plots\n",
    "for ax in fig.axes:\n",
    "    ax.set_xlabel(r'$Area$', fontsize=17)\n",
    "    ax.set_ylabel(r'$N. Rooms$', fontsize=17)\n"
   ]
  }
 ],
 "metadata": {
  "kernelspec": {
   "display_name": "Python 2",
   "language": "python",
   "name": "python2"
  },
  "language_info": {
   "codemirror_mode": {
    "name": "ipython",
    "version": 2
   },
   "file_extension": ".py",
   "mimetype": "text/x-python",
   "name": "python",
   "nbconvert_exporter": "python",
   "pygments_lexer": "ipython2",
   "version": "2.7.12"
  }
 },
 "nbformat": 4,
 "nbformat_minor": 2
}
