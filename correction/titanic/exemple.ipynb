{
 "cells": [
  {
   "cell_type": "code",
   "execution_count": 1,
   "metadata": {
    "collapsed": false
   },
   "outputs": [
    {
     "name": "stderr",
     "output_type": "stream",
     "text": [
      "/usr/lib/python2.7/dist-packages/matplotlib/font_manager.py:273: UserWarning: Matplotlib is building the font cache using fc-list. This may take a moment.\n",
      "  warnings.warn('Matplotlib is building the font cache using fc-list. This may take a moment.')\n"
     ]
    }
   ],
   "source": [
    "import pandas as pd\n",
    "import numpy as np\n",
    "import matplotlib as mpl\n",
    "import matplotlib.pyplot as plt\n",
    "import scipy\n",
    "import sys\n",
    "import re\n",
    "from scipy.io import loadmat\n",
    "\n",
    "from sklearn.model_selection import train_test_split\n",
    "\n",
    "from scipy.optimize import minimize\n",
    "\n",
    "from sklearn.preprocessing import PolynomialFeatures\n",
    "\n",
    "from sklearn.linear_model import LogisticRegression\n",
    "from sklearn.svm import SVC\n",
    "from sklearn.neighbors import KNeighborsClassifier\n",
    "from sklearn.tree import DecisionTreeClassifier\n",
    "from sklearn.neural_network import MLPClassifier\n",
    "from sklearn.ensemble import RandomForestClassifier\n",
    "\n",
    "from sklearn.preprocessing import StandardScaler\n",
    "\n"
   ]
  },
  {
   "cell_type": "code",
   "execution_count": 2,
   "metadata": {
    "collapsed": false
   },
   "outputs": [
    {
     "name": "stdout",
     "output_type": "stream",
     "text": [
      "   Survived  Pclass  Sex  Parch  Fare  Embarked  Has_Cabin  FamilySize  \\\n",
      "0         0       3    1      0     0         0          0           2   \n",
      "1         1       1    0      0     3         1          1           2   \n",
      "2         1       3    0      0     1         0          0           1   \n",
      "\n",
      "   IsAlone  Title  Age0  Age1  Age2  Age3  Age4  Age5  Age6  \n",
      "0        0      1   0.0   0.0   1.0   0.0   0.0   0.0   0.0  \n",
      "1        0      3   0.0   0.0   0.0   0.0   1.0   0.0   0.0  \n",
      "2        1      2   0.0   0.0   0.0   1.0   0.0   0.0   0.0  \n"
     ]
    },
    {
     "name": "stderr",
     "output_type": "stream",
     "text": [
      "/usr/local/lib/python2.7/dist-packages/ipykernel/__main__.py:35: SettingWithCopyWarning: \n",
      "A value is trying to be set on a copy of a slice from a DataFrame\n",
      "\n",
      "See the caveats in the documentation: http://pandas.pydata.org/pandas-docs/stable/indexing.html#indexing-view-versus-copy\n"
     ]
    }
   ],
   "source": [
    "# Define function to extract titles from passenger names\n",
    "def get_title(name):\n",
    "    title_search = re.search(' ([A-Za-z]+)\\.', name)\n",
    "    # If the title exists, extract and return it.\n",
    "    if title_search:\n",
    "        return title_search.group(1)\n",
    "    return \"\"\n",
    "\n",
    "def transform_data(dataset):\n",
    "    #full_data = [train, test]\n",
    "\n",
    "    # Some features of my own that I have added in\n",
    "    # Gives the length of the name\n",
    "    #train['Name_length'] = train['Name'].apply(len)\n",
    "    #test['Name_length'] = test['Name'].apply(len)\n",
    "    # Feature that tells whether a passenger had a cabin on the Titanic\n",
    "    dataset['Has_Cabin'] = dataset[\"Cabin\"].apply(lambda x: 0 if type(x) == float else 1)\n",
    "\n",
    "    # Feature engineering steps taken from Sina\n",
    "    # Create new feature FamilySize as a combination of SibSp and Parch\n",
    "    dataset['FamilySize'] = dataset['SibSp'] + dataset['Parch'] + 1\n",
    "    # Create new feature IsAlone from FamilySize\n",
    "    dataset['IsAlone'] = 0\n",
    "    dataset.loc[dataset['FamilySize'] == 1, 'IsAlone'] = 1\n",
    "    # Remove all NULLS in the Embarked column\n",
    "    dataset['Embarked'] = dataset['Embarked'].fillna('S')\n",
    "    # Remove all NULLS in the Fare column and create a new feature CategoricalFare\n",
    "    dataset['Fare'] = dataset['Fare'].fillna(train['Fare'].median())\n",
    "    #### train['CategoricalFare'] = pd.qcut(train['Fare'], 4)\n",
    "    # Create a New feature CategoricalAge\n",
    "    age_avg = dataset['Age'].mean()\n",
    "    age_std = dataset['Age'].std()\n",
    "    age_null_count = dataset['Age'].isnull().sum()\n",
    "    age_null_random_list = np.random.randint(age_avg - age_std, age_avg + age_std, size=age_null_count)\n",
    "    dataset['Age'][np.isnan(dataset['Age'])] = age_null_random_list\n",
    "    dataset['Age'] = dataset['Age'].astype(int)\n",
    "    ###### train['CategoricalAge'] = pd.cut(train['Age'], 5)\n",
    "\n",
    "\n",
    "\n",
    "    # Create a new feature Title, containing the titles of passenger names\n",
    "    dataset['Title'] = dataset['Name'].apply(get_title)\n",
    "    # Group all non-common titles into one single grouping \"Rare\"\n",
    "    dataset['Title'] = dataset['Title'].replace(['Lady', 'Countess','Capt', 'Col','Don', 'Dr', 'Major', 'Rev', 'Sir', 'Jonkheer', 'Dona'], 'Rare')\n",
    "\n",
    "    dataset['Title'] = dataset['Title'].replace('Mlle', 'Miss')\n",
    "    dataset['Title'] = dataset['Title'].replace('Ms', 'Miss')\n",
    "    dataset['Title'] = dataset['Title'].replace('Mme', 'Mrs')\n",
    "    \n",
    "    # Mapping Sex\n",
    "    dataset['Sex'] = dataset['Sex'].map( {'female': 0, 'male': 1} ).astype(int)\n",
    "    \n",
    "    # Mapping titles\n",
    "    title_mapping = {\"Mr\": 1, \"Miss\": 2, \"Mrs\": 3, \"Master\": 4, \"Rare\": 5}\n",
    "    dataset['Title'] = dataset['Title'].map(title_mapping)\n",
    "    dataset['Title'] = dataset['Title'].fillna(0)\n",
    "    \n",
    "    # Mapping Embarked\n",
    "    dataset['Embarked'] = dataset['Embarked'].map( {'S': 0, 'C': 1, 'Q': 2} ).astype(int)\n",
    "    \n",
    "    # Mapping Fare\n",
    "    dataset.loc[ dataset['Fare'] <= 7.91, 'Fare'] \t\t\t\t\t\t        = 0\n",
    "    dataset.loc[(dataset['Fare'] > 7.91) & (dataset['Fare'] <= 14.454), 'Fare'] = 1\n",
    "    dataset.loc[(dataset['Fare'] > 14.454) & (dataset['Fare'] <= 31), 'Fare']   = 2\n",
    "    dataset.loc[ dataset['Fare'] > 31, 'Fare'] \t\t\t\t\t\t\t        = 3\n",
    "    dataset['Fare'] = dataset['Fare'].astype(int)\n",
    "    \n",
    "    # Mapping Age\n",
    "    dataset.loc[ dataset['Age'] <= 10, 'Age0'] \t\t\t\t\t       = 1\n",
    "    dataset.loc[(dataset['Age'] > 10) & (dataset['Age'] <= 18), 'Age1'] = 1\n",
    "    dataset.loc[(dataset['Age'] > 18) & (dataset['Age'] <= 25), 'Age2'] = 1\n",
    "    dataset.loc[(dataset['Age'] > 25) & (dataset['Age'] <= 32), 'Age3'] = 1\n",
    "    dataset.loc[(dataset['Age'] > 32) & (dataset['Age'] <= 48), 'Age4'] = 1\n",
    "    dataset.loc[(dataset['Age'] > 48) & (dataset['Age'] <= 64), 'Age5'] = 1\n",
    "    dataset.loc[ dataset['Age'] > 64, 'Age6'] = 1 ;\n",
    "    \n",
    "    dataset.loc[ dataset['Age0'] != 1, 'Age0'] = 0 ;\n",
    "    dataset.loc[ dataset['Age1'] != 1, 'Age1'] = 0 ;\n",
    "    dataset.loc[ dataset['Age2'] != 1, 'Age2'] = 0 ;\n",
    "    dataset.loc[ dataset['Age3'] != 1, 'Age3'] = 0 ;\n",
    "    dataset.loc[ dataset['Age4'] != 1, 'Age4'] = 0 ;\n",
    "    dataset.loc[ dataset['Age5'] != 1, 'Age5'] = 0 ;\n",
    "    dataset.loc[ dataset['Age6'] != 1, 'Age6'] = 0 ;\n",
    "\n",
    "train = pd.read_csv('train.csv')\n",
    "test = pd.read_csv('test.csv')\n",
    "\n",
    "ypassengerid = test['PassengerId']\n",
    "\n",
    "transform_data(train)\n",
    "transform_data(test)   \n",
    "# Feature selection\n",
    "drop_elements = ['PassengerId', 'Name', 'Ticket', 'Cabin', 'SibSp']\n",
    "drop_elements = ['PassengerId', 'Name', 'Ticket', 'Cabin', 'SibSp', 'Age']\n",
    "#drop_elements = ['Name', 'Ticket', 'Cabin']\n",
    "train = train.drop(drop_elements, axis = 1)\n",
    "#train = train.drop(['CategoricalAge', 'CategoricalFare'], axis = 1)\n",
    "test  = test.drop(drop_elements, axis = 1)\n",
    "print train.head(3)"
   ]
  },
  {
   "cell_type": "code",
   "execution_count": 3,
   "metadata": {
    "collapsed": false
   },
   "outputs": [],
   "source": [
    "y_train = np.array(train['Survived'])\n",
    "train = train.drop(['Survived'], axis=1)\n",
    "x_train = train.values # Creates an array of the train data\n",
    "x_test = test.values # Creats an array of the test data"
   ]
  },
  {
   "cell_type": "code",
   "execution_count": 4,
   "metadata": {
    "collapsed": false
   },
   "outputs": [
    {
     "name": "stdout",
     "output_type": "stream",
     "text": [
      "Random : 0.383838383838\n",
      "LogisticRegression\n",
      "Accuracy : 79.8882681564 TrainPrec : 82.0224719101\n",
      "SVC\n",
      "Accuracy : 77.6536312849 TrainPrec : 82.1629213483\n",
      "SVC\n",
      "Accuracy : 81.0055865922 TrainPrec : 84.2696629213\n",
      "RandomForestClassifier\n",
      "Accuracy : 83.2402234637 TrainPrec : 90.308988764\n",
      "MLPClassifier\n",
      "Accuracy : 79.3296089385 TrainPrec : 82.8651685393\n"
     ]
    }
   ],
   "source": [
    "print 'Random :', np.sum(y_train == 1) * 1.0 / y_train.size\n",
    "mlp = MLPClassifier(activation='relu', solver='lbfgs', hidden_layer_sizes=(6,5,5 ))\n",
    "\n",
    "classifiers = [LogisticRegression(), \n",
    "               SVC(C=0.1, kernel='linear'), \n",
    "               SVC(C=1, kernel='rbf', gamma=0.1), \n",
    "               RandomForestClassifier(random_state=0),\n",
    "               mlp\n",
    "            ]\n",
    "for classif in classifiers:\n",
    "    print type(classif).__name__\n",
    "    precision = 0.0;\n",
    "    trainprec = 0.0;\n",
    "    X_train, X_test, Y_train, Y_test = train_test_split(x_train, y_train, test_size=0.2, random_state=0)\n",
    "    classif.fit(X_train, Y_train)\n",
    "\n",
    "    prediction = classif.predict(X_test)\n",
    "    precision += np.sum(prediction == Y_test) * 100.0 / Y_test.size\n",
    "    prediction = classif.predict(X_train)\n",
    "    trainprec += np.sum(prediction == Y_train) * 100.0 / Y_train.size\n",
    "\n",
    "    print 'Accuracy :', precision , 'TrainPrec :', trainprec\n"
   ]
  }
 ],
 "metadata": {
  "kernelspec": {
   "display_name": "Python 2",
   "language": "python",
   "name": "python2"
  },
  "language_info": {
   "codemirror_mode": {
    "name": "ipython",
    "version": 2
   },
   "file_extension": ".py",
   "mimetype": "text/x-python",
   "name": "python",
   "nbconvert_exporter": "python",
   "pygments_lexer": "ipython2",
   "version": "2.7.12"
  }
 },
 "nbformat": 4,
 "nbformat_minor": 2
}
