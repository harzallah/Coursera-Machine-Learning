{
 "cells": [
  {
   "cell_type": "markdown",
   "metadata": {},
   "source": [
    "#### Exercice 1 :\n",
    "Excrire une fonction qui permet de calculer le produit factoriel d'un entier donné en paramètre."
   ]
  },
  {
   "cell_type": "code",
   "execution_count": 7,
   "metadata": {
    "collapsed": true
   },
   "outputs": [],
   "source": [
    "def fact(n):\n",
    "    f = 1\n",
    "    #Your code here\n",
    "    return f"
   ]
  },
  {
   "cell_type": "code",
   "execution_count": 3,
   "metadata": {
    "collapsed": false
   },
   "outputs": [
    {
     "name": "stdout",
     "output_type": "stream",
     "text": [
      "('Le produit scalair est ', 1)\n"
     ]
    }
   ],
   "source": [
    "f = fact(6)\n",
    "print('Le produit scalair est ', f)"
   ]
  },
  {
   "cell_type": "markdown",
   "metadata": {},
   "source": [
    "#### Exercice 2\n",
    "Importer la libraire numpy puis déclarer une matrice de 5x3 remplie de zeros (utiliser la fonction np.zeros)\n",
    "pour avoir le manuel de `np.zeros` il suffit de faire `help(np.zeros)` dans un terminal python"
   ]
  },
  {
   "cell_type": "code",
   "execution_count": 4,
   "metadata": {
    "collapsed": false
   },
   "outputs": [
    {
     "name": "stdout",
     "output_type": "stream",
     "text": [
      "None\n"
     ]
    }
   ],
   "source": [
    "import numpy as np\n",
    "\n",
    "m = None\n",
    "\n",
    "print(m)"
   ]
  },
  {
   "cell_type": "markdown",
   "metadata": {},
   "source": [
    "#### Exercice 3\n",
    "Declarer 2 vecteurs v1 et v2 de taille 6x1 remplis de numéros aléatoires.\n",
    "Utiliser la fonction `np.random.rand`.\n",
    "Calculer le produit scalaire entre v1 et v2.\n",
    "Info : Pour calculer la ransposée d'un vecteur v1, il suffit d'appeler `v1.T`\n",
    "Pour calculer le produit scalair entre 2 nombres, utiliser la méthode `dot()`\n",
    "\n",
    "Le résultat que vous devez obtenir est : 0.61432916"
   ]
  },
  {
   "cell_type": "code",
   "execution_count": 6,
   "metadata": {
    "collapsed": true
   },
   "outputs": [],
   "source": [
    "np.random.seed(1) # initialiser le générateur de numéro aléatoire\n",
    "#YOUR CODE HERE"
   ]
  }
 ],
 "metadata": {
  "kernelspec": {
   "display_name": "Python 2",
   "language": "python",
   "name": "python2"
  },
  "language_info": {
   "codemirror_mode": {
    "name": "ipython",
    "version": 2
   },
   "file_extension": ".py",
   "mimetype": "text/x-python",
   "name": "python",
   "nbconvert_exporter": "python",
   "pygments_lexer": "ipython2",
   "version": "2.7.6"
  }
 },
 "nbformat": 4,
 "nbformat_minor": 2
}
